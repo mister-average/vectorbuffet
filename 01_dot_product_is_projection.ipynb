{
 "cells": [
  {
   "cell_type": "code",
   "execution_count": 2,
   "id": "3ab7b4be",
   "metadata": {
    "ExecuteTime": {
     "end_time": "2023-06-16T21:31:03.748520Z",
     "start_time": "2023-06-16T21:31:03.738886Z"
    },
    "hide_input": true
   },
   "outputs": [
    {
     "data": {
      "text/html": [
       "<style>#notebook-container { width:75% !important; }</style>"
      ],
      "text/plain": [
       "<IPython.core.display.HTML object>"
      ]
     },
     "metadata": {},
     "output_type": "display_data"
    }
   ],
   "source": [
    "from IPython.display import display, HTML\n",
    "display(HTML(\"<style>#notebook-container { width:75% !important; }</style>\"))"
   ]
  },
  {
   "cell_type": "markdown",
   "id": "f52349cd",
   "metadata": {},
   "source": [
    "# Element-wise scalar product actually projects one vector onto another\n",
    "Given two 3D vectors:\n",
    "\n",
    "$\\vec{\\mathbf{u}} = u_\\color{red}{x} \\hat{\\mathbf{\\color{red}{i}}} + u_\\color{green}{y} \\hat{\\mathbf{\\color{green}{j}}}  + u_\\color{blue}{z} \\hat{\\mathbf{\\color{blue}{k}}}$\n",
    "\n",
    "$\\vec{\\mathbf{v}} = v_\\color{red}{x} \\hat{\\mathbf{\\color{red}{i}}} + v_\\color{green}{y} \\hat{\\mathbf{\\color{green}{j}}}  + v_\\color{blue}{z} \\hat{\\mathbf{\\color{blue}{k}}}$\n",
    "\n",
    "...if you define something called the scalar (or dot) product like this:\n",
    "\n",
    "$\\vec{\\mathbf{u}} \\bullet \\vec{\\mathbf{v}} := u_\\color{red}{x} v_\\color{red}{x} + u_\\color{green}{y} v_\\color{green}{y} + u_\\color{blue}{z} v_\\color{blue}{z}$\n",
    "\n",
    "...then the scalar that you get as a result is (for some reason) the product of the length of one vector and the projected length of the other vector:\n",
    "\n",
    "$\\lVert \\vec{\\mathbf{u}}\\rVert \\cdot \\lVert \\vec{\\mathbf{v}}\\rVert \\cdot cos(\\alpha)$\n",
    "\n",
    "...where $\\alpha$ is the angle between the two vectors.\n",
    "\n",
    "Sounds crazy at first, because projections are related to angles and cosines, but the definition of dot product as simple sum of element-wise multiplication makes no reference to angles.\n",
    "\n",
    "Here's an example that might make the connection between projection and the dot product more intuitive: if you imagine that:\n",
    "- $\\vec{\\mathbf{u}}$ lies equally between all 3 of its axes (so that $u_\\color{red}{x}, u_\\color{green}{y}, $ and $u_\\color{blue}{z}$ are all about equal), \n",
    "- and $\\vec{\\mathbf{v}}$ is nearly parallel to the $\\hat{\\mathbf{\\color{blue}{k}}}$ axis (so that $v_\\color{red}{x}$ and $v_\\color{green}{y}$ are small compared to $v_\\color{blue}{z}$), \n",
    "\n",
    "then the result of the scalar product will be dominated by the $u_\\color{blue}{z} v_\\color{blue}{z}$ term.  This is the same effect as considering mostly the part of $\\vec{\\mathbf{u}}$ which is projected onto $\\vec{\\mathbf{v}}$.  Just the action of segregating the multiplications of x components from the multiplications of y components from the multiplications of z components is similar to the act of projection."
   ]
  },
  {
   "cell_type": "markdown",
   "id": "3d5238d6",
   "metadata": {},
   "source": [
    "## 3Blue1Brown on this topic\n",
    "3Blue1Brown has a nice video about this, **BUT** <br>\n",
    "\n",
    "- It doesn't work through the mechanics of the algebra that takes you from element-wise scalar products to projections.<br><br>\n",
    "- He introduces this at video number 9 of his series on Linear Algebra, and draws from his earlier explanations about linear transforms and matrix multipllication.  I'm not sure that's the best order for this topic.  <br><br>\n",
    "     - Vector-matrix multiplication can be **defined** as a bunch of dot products, leading to a bunch of projections onto a new set of vectors (i.e. the new set of basis vectors).  So if you introduce the equivalance between the sum of element-wise products (the **dot product**) and **projection** before you cover any other topic, it seems like it's easier to grasp the later topics.<br><br>\n",
    "     - The way Grant introduces this makes it seem like an interesting coincidence (he calls it a **duality**) instead of a concept that is related to matrix multiplication and linear transforms as their prerequisite and cause."
   ]
  },
  {
   "cell_type": "code",
   "execution_count": 1,
   "id": "bd2e4866",
   "metadata": {
    "ExecuteTime": {
     "end_time": "2023-06-15T22:41:07.106472Z",
     "start_time": "2023-06-15T22:41:07.099193Z"
    },
    "code_folding": [],
    "hide_input": true
   },
   "outputs": [
    {
     "data": {
      "text/html": [
       "<iframe width=\"797\" height=\"448\" src=\"https://www.youtube.com/embed/LyGKycYT2v0?list=PLZHQObOWTQDPD3MizzM2xVFitgF8hE_ab\" title=\"Dot products and duality | Chapter 9, Essence of linear algebra\" frameborder=\"0\" allow=\"accelerometer; autoplay; clipboard-write; encrypted-media; gyroscope; picture-in-picture; web-share\" allowfullscreen></iframe>\n"
      ],
      "text/plain": [
       "<IPython.core.display.HTML object>"
      ]
     },
     "metadata": {},
     "output_type": "display_data"
    }
   ],
   "source": [
    "%%html\n",
    "<iframe width=\"797\" height=\"448\" src=\"https://www.youtube.com/embed/LyGKycYT2v0?list=PLZHQObOWTQDPD3MizzM2xVFitgF8hE_ab\" title=\"Dot products and duality | Chapter 9, Essence of linear algebra\" frameborder=\"0\" allow=\"accelerometer; autoplay; clipboard-write; encrypted-media; gyroscope; picture-in-picture; web-share\" allowfullscreen></iframe>"
   ]
  },
  {
   "cell_type": "markdown",
   "id": "628003e1",
   "metadata": {},
   "source": [
    "**Below is a simple chain of geometric and algebraic steps which show how element-wise scalar products lead to the product of the length of one vector and the projected length of the other vector.**"
   ]
  },
  {
   "cell_type": "markdown",
   "id": "8941cad7",
   "metadata": {},
   "source": [
    "# The dot product of a 3D vector with itself is the square of its length\n",
    "\n",
    "Since the dot product is defined like this:\n",
    "\n",
    "$\\vec{\\mathbf{u}} \\bullet \\vec{\\mathbf{u}} := u_\\color{red}{x} u_\\color{red}{x} + u_\\color{green}{y} u_\\color{green}{y} + u_\\color{blue}{z} u_\\color{blue}{z}$\n",
    "\n",
    "... and the length of $\\vec{\\mathbf{u}}$ is defined like this:\n",
    "\n",
    "$\\lVert \\vec{\\mathbf{u}}\\rVert := \\sqrt{u_\\color{red}{x}^2 + u_\\color{green}{y}^2 + u_\\color{blue}{z}^2}$\n",
    "\n",
    "...expanding and substituting gives...\n",
    "\n",
    "$\\lVert \\vec{\\mathbf{u}}\\rVert = \\sqrt{u_\\color{red}{x}^2 + u_\\color{green}{y}^2 + u_\\color{blue}{z}^2} = \\sqrt{u_\\color{red}{x} u_\\color{red}{x} + u_\\color{green}{y} u_\\color{green}{y} + u_\\color{blue}{z} u_\\color{blue}{z}} = \\sqrt{\\vec{\\mathbf{u}} \\bullet \\vec{\\mathbf{u}}}$\n",
    "\n",
    "...or...\n",
    "\n",
    "$\\lVert \\vec{\\mathbf{u}}\\rVert^2 = \\vec{\\mathbf{u}} \\bullet \\vec{\\mathbf{u}}$"
   ]
  },
  {
   "cell_type": "markdown",
   "id": "eeeb25e6",
   "metadata": {},
   "source": [
    "# Law of Cosines\n",
    "(A generalized version of the Pythagorean Theorem)"
   ]
  },
  {
   "cell_type": "code",
   "execution_count": 2,
   "id": "7644165f",
   "metadata": {
    "ExecuteTime": {
     "end_time": "2023-06-17T00:27:38.766896Z",
     "start_time": "2023-06-17T00:27:38.107825Z"
    },
    "hide_input": true
   },
   "outputs": [
    {
     "data": {
      "text/html": [
       "<pre style=\"white-space:pre;overflow-x:auto;line-height:normal;font-family:Menlo,'DejaVu Sans Mono',consolas,'Courier New',monospace\">Manim Community <span style=\"color: #008000; text-decoration-color: #008000\">v0.17.3</span>\n",
       "\n",
       "</pre>\n"
      ],
      "text/plain": [
       "Manim Community \u001b[32mv0.\u001b[0m\u001b[32m17.3\u001b[0m\n",
       "\n"
      ]
     },
     "metadata": {},
     "output_type": "display_data"
    }
   ],
   "source": [
    "from manim import *\n",
    "from numpy import *\n",
    "\n",
    "config.media_width = \"1000px\"\n",
    "config.media_height = \"600px\"\n",
    "config.verbosity = \"WARNING\"\n",
    "config.frame_width = 20\n",
    "config.frame_height = 12\n",
    "config.pixel_width = 1000\n",
    "config.pixel_height = 600"
   ]
  },
  {
   "cell_type": "code",
   "execution_count": 3,
   "id": "049bd0e1",
   "metadata": {
    "ExecuteTime": {
     "end_time": "2023-06-17T00:27:49.402539Z",
     "start_time": "2023-06-17T00:27:39.773845Z"
    },
    "code_folding": [],
    "hide_input": true
   },
   "outputs": [
    {
     "name": "stderr",
     "output_type": "stream",
     "text": [
      "                                                                                         \r"
     ]
    },
    {
     "data": {
      "text/html": [
       "<video src=\"media/jupyter/law_of_cosines@2023-06-17@00-27-49.mp4\" controls autoplay loop style=\"max-width: 1000px;\"  >\n",
       "      Your browser does not support the <code>video</code> element.\n",
       "    </video>"
      ],
      "text/plain": [
       "<IPython.core.display.Video object>"
      ]
     },
     "metadata": {},
     "output_type": "display_data"
    }
   ],
   "source": [
    "%%manim -r 1000,600 -qm law_of_cosines\n",
    "\n",
    "from manim.utils.color import Colors\n",
    "\n",
    "class law_of_cosines(Scene):\n",
    "    def construct(self):\n",
    "        \n",
    "        self.camera.frame_center=array([0., 0., 5.])\n",
    "        self.camera.frame_height=12\n",
    "        self.camera.frame_width=20\n",
    "        \n",
    "        # Lengths des Triangles\n",
    "        a = 5\n",
    "        b = 7\n",
    "        c = 8\n",
    "        \n",
    "        \n",
    "        alpha=arccos((a**2-b**2-c**2)/(-2*b*c))\n",
    "        beta=arccos((b**2-c**2-a**2)/(-2*a*c))\n",
    "        q=b*cos(alpha)\n",
    "        h_c=b*sin(alpha)\n",
    "        \n",
    "        A = [0,0,0]        #Vertices des Triangles\n",
    "        B = [c,0,0]\n",
    "        C = add(A , [q,h_c,0])\n",
    "        C_x = add(A , [q, 0, 0])\n",
    "        \n",
    "        C_x_mid = 0.5 * add(A, C_x)\n",
    "        C_x_mid_right = 0.5 * add(B, C_x)\n",
    "        C_up_mid = 0.5 * add(C_x, C)\n",
    "        \n",
    "        BC = 0.5 * add(B,C)\n",
    "        CA = 0.5 * add(C, A)\n",
    "        \n",
    "        A_low = add(A, [0, -1.0, 0])\n",
    "        B_low = add(B, [0, -1.0, 0])\n",
    "        AB_low = 0.5 * add(A_low, B_low)\n",
    "        \n",
    "        number_plane = NumberPlane(x_range=(-10, 10, 1), y_range=(-8, 8, 1))\n",
    "        \n",
    "        \n",
    "        pt_size=(a+b+c)/150\n",
    "        \n",
    "        pt_A = Dot(point=A, radius=pt_size, color=RED)        #Vertices mObjects -> Dots\n",
    "        pt_B = Dot(point=B, radius=pt_size, color=GREEN)\n",
    "        pt_C = Dot(point=C, radius=pt_size, color=BLUE)\n",
    "        \n",
    "        \n",
    "        line_c = Line(A,B, stroke_width=2) #Seiten des Triangles\n",
    "        line_a = Line(B,C, stroke_width=2)\n",
    "        line_a_brace = BraceBetweenPoints(B, C, color=Colors.yellow_a.value)\n",
    "        \n",
    "        line_b = Line(C,A, stroke_width=2)\n",
    "        line_b_brace = BraceBetweenPoints(C, A, color=Colors.yellow_a.value)\n",
    "        \n",
    "        line_c_x = DashedLine(C, C_x,stroke_color=Colors.yellow_e.value, stroke_width=2)\n",
    "        rect_c_x = Rectangle(color='#FFFFFF', height=0.25, width=0.25, stroke_width=1)\n",
    "        rect_c_x.move_to(add(C_x, array([.125, .125, 0.])))\n",
    "        \n",
    "        line_c_brace_left = BraceBetweenPoints(A, C_x, color=Colors.yellow_a.value)\n",
    "        line_c_brace_right = BraceBetweenPoints(C_x, B, color=Colors.yellow_a.value)\n",
    "        line_c_brace_up = BraceBetweenPoints(C, C_x, color=Colors.yellow_a.value)\n",
    "        line_c_brace = BraceBetweenPoints(A_low, \n",
    "                                          B_low, \n",
    "                                          color=Colors.yellow_a.value)\n",
    "        \n",
    "#         arc_b = Arc(radius=b,angle=0.4, start_angle=alpha-0.2,arc_center=A,color=RED) #Zirkelabschlag mObject\n",
    "#         arc_a = Arc(radius=a,angle=0.4, start_angle=pi-(beta+0.2),arc_center=B,color=RED)\n",
    "        \n",
    "        radius_arc=1.5         #Radius des Winkelbogens\n",
    "        arc_alpha = Arc(radius=radius_arc,angle=alpha, start_angle=0,arc_center=A,color=GREEN)\n",
    "        \n",
    "        label_alpha = Tex(r\"$\\alpha$\",color=GREEN)\n",
    "        position_alpha = A+0.6*radius_arc*(array([cos(alpha/2),sin(alpha/2),0]))\n",
    "        label_alpha.move_to(position_alpha)\n",
    "        \n",
    "        label_A = Text(\"A(0,0)\", color=RED)              #Labels\n",
    "        label_A.next_to(pt_A, DOWN, buff=0.4)\n",
    "        \n",
    "        label_a = Text(\"a\")\n",
    "        label_a.next_to(BC, direction=array([1., .6, 0.]), buff=0.5)\n",
    "        \n",
    "        label_B = Text(\"B(c,0)\", color=GREEN)\n",
    "        label_B.next_to(pt_B, direction=array([0.2, -.8, 0.]), buff=0.5)\n",
    "        \n",
    "        label_b = Text(\"b\")\n",
    "        label_b.next_to(CA, direction=array([-0.5, .8, 0.]), buff=0.6)\n",
    "        \n",
    "        label_C_initial = Tex(r\"$\\textbf{C}$\", color=Colors.blue_d.value)\n",
    "        label_C = Tex(r\"$\\textbf{C(b} cos(\\alpha), \\textbf{b} sin(\\alpha)\\textbf{)}$\", color=Colors.blue_d.value)\n",
    "        label_C_initial.next_to(pt_C, UP, buff=0.3)\n",
    "        label_C.next_to(pt_C, UP, buff=0.3)\n",
    "        \n",
    "        label_c = Text(\"c\")\n",
    "        label_c.next_to(AB_low, \n",
    "                        direction=array([0., -1, 0.]), buff=0.9)\n",
    "        \n",
    "        label_c_left = Tex(r\"$\\textbf{b} cos(\\alpha)$\", color=Colors.blue_d.value)\n",
    "        label_c_left.next_to(C_x_mid, direction=array([0., -1.0, 0.]), buff=0.6)\n",
    "        \n",
    "        label_c_right = Text(\"c'\", color=Colors.blue_d.value)\n",
    "        label_c_right.next_to(C_x_mid_right, direction=array([0., -1.0, 0.]), buff=0.6)\n",
    "        \n",
    "        label_c_up = Tex(r\"$\\textbf{b} sin(\\alpha)$\", color=Colors.blue_d.value)\n",
    "        label_c_up.next_to(C_up_mid, direction=array([-1.0, 0., 0.]), buff=0.6)\n",
    "        \n",
    "        label_c_up2 = Text(\"= b'\", color=Colors.blue_d.value)\n",
    "        label_c_up2.next_to(C_up_mid, direction=array([-1.5, -0.7, 0.]), buff=0.6)\n",
    "        \n",
    "        #Triangle = VGroup(pt_A,pt_B,pt_C,line_a,line_b,line_c,arc_b,arc_a,arc_alpha,label_A,label_B,label_C,label_alpha)\n",
    "#         Triangle = VGroup(pt_A,pt_B,pt_C,line_a,line_b,line_c,arc_b,arc_a,label_A,label_B,label_C)\n",
    "        Triangle = VGroup(pt_A,pt_B,pt_C,line_a,line_b,line_c,label_A,label_B,label_C)\n",
    "        scale_x = config.frame_width/Triangle.width\n",
    "        scale_y = config.frame_height/Triangle.height\n",
    "        \n",
    "        scale = min([scale_x, scale_y])\n",
    "        \n",
    "\n",
    "        \n",
    "        #Triangle = Triangle.scale(scale*0.85)\n",
    "        #Triangle.move_to([0,0,0])\n",
    "        self.play(Create(number_plane))\n",
    "        self.play(Create(line_c))\n",
    "        self.play(FadeIn(pt_A,pt_B))\n",
    "        self.play(Write(label_A),Write(label_B))\n",
    "#         self.wait(.5)\n",
    "#         self.play(Create(arc_b))\n",
    "#         self.play(Create(arc_a))\n",
    "        self.play(FadeIn(pt_C),Write(label_C_initial))\n",
    "#         self.play(Write(label_C))\n",
    "#         self.wait()\n",
    "        self.play(Create(line_a),Create(line_b),Create(line_a_brace),Create(line_b_brace))\n",
    "        self.play(Create(label_a), Create(label_b))\n",
    "        self.play(Create(line_c_brace))\n",
    "        self.play(Create(label_c))\n",
    "        self.play(Create(arc_alpha)) \n",
    "        self.play(Create(label_alpha))\n",
    "        self.play(Create(line_c_x))\n",
    "        self.play(Create(rect_c_x))\n",
    "        self.play(Create(line_c_brace_left), Create(line_c_brace_up))\n",
    "        self.play(Create(label_c_left), Create(label_c_up))\n",
    "        self.play(Create(label_c_up2))\n",
    "        \n",
    "        self.play(Create(line_c_brace_right))\n",
    "        self.play(Create(label_c_right))\n",
    "        \n",
    "        self.wait()\n",
    "        self.play(Create(label_C_initial.become(label_C)))\n",
    "        self.wait(5)"
   ]
  },
  {
   "cell_type": "markdown",
   "id": "a3ee6c47",
   "metadata": {},
   "source": [
    "In the figure above, by the **Pythagorean Theorem**:\n",
    "\n",
    "$\\mathrm{a}^2 = \\mathrm{b'}^2 + \\mathrm{c'}^2$\n",
    "\n",
    "Substituting $\\mathrm{b'} = \\mathrm{b} sin(\\alpha)$ and $\\mathrm{c'} = \\mathrm{c} - \\mathrm{b} cos(\\alpha)$:\n",
    "\n",
    "$\\mathrm{a}^2 = {(\\mathrm{b} sin(\\alpha))}^2\\text{ }\\text{ }+\\text{ }\\text{ }{(\\mathrm{c} - \\mathrm{b} cos(\\alpha))}^2$\n",
    "\n",
    "$\\mathrm{a}^2 = \\mathrm{b}^2 sin^2(\\alpha)\\text{ }\\text{ }+\\text{ }\\text{ }\\mathrm{c}^2\\text{ }\\text{ }-\\text{ }\\text{ }2 \\mathrm{b c} cos(\\alpha)\\text{ }\\text{ }+\\text{ }\\text{ }\\mathrm{b}^2 cos^2(\\alpha)$\n",
    "\n",
    "...rearranging terms...\n",
    "\n",
    "$\\mathrm{a}^2 = \\mathrm{c}^2\\text{ }\\text{ }-\\text{ }\\text{ }2 \\mathrm{b c} cos(\\alpha)\\text{ }\\text{ }+\\text{ }\\text{ }\\mathrm{b}^2 sin^2(\\alpha)\\text{ }\\text{ }+\\text{ }\\text{ }\\mathrm{b}^2 cos^2(\\alpha)$\n",
    "\n",
    "...factoring out $\\mathrm{b}^2$...\n",
    "\n",
    "$\\mathrm{a}^2 = \\mathrm{c}^2\\text{ }\\text{ }-\\text{ }\\text{ }2 \\mathrm{b c} cos(\\alpha)\\text{ }\\text{ }+\\text{ }\\text{ }\\mathrm{b}^2 (sin^2(\\alpha)\\text{ }\\text{ }+\\text{ }\\text{ }cos^2(\\alpha))$\n",
    "\n",
    "...substituting $sin^2(\\alpha) + cos^2(\\alpha) = 1$\n",
    "\n",
    "$\\mathrm{a}^2 = \\mathrm{c}^2 - 2 \\mathrm{b c} cos(\\alpha) + \\mathrm{b}^2$\n",
    "\n",
    "...rearranging gives the final result:\n",
    "\n",
    "$$\\bbox[15px, border: 1px solid]{\\mathrm{a}^2 = \\mathrm{b}^2 + \\mathrm{c}^2 - 2 \\mathrm{b c} cos(\\alpha)}$$"
   ]
  },
  {
   "cell_type": "markdown",
   "id": "ab94a894",
   "metadata": {},
   "source": [
    "# Applying this to the dot product of two 3D vectors"
   ]
  },
  {
   "cell_type": "markdown",
   "id": "53e7b307",
   "metadata": {},
   "source": [
    "## The length of u - v"
   ]
  },
  {
   "cell_type": "markdown",
   "id": "9710ceba",
   "metadata": {},
   "source": [
    "Given two 3D vectors\n",
    "\n",
    "$\\vec{\\mathbf{u}} = u_\\color{red}{x} \\hat{\\mathbf{\\color{red}{i}}} + u_\\color{green}{y} \\hat{\\mathbf{\\color{green}{j}}}  + u_\\color{blue}{z} \\hat{\\mathbf{\\color{blue}{k}}}$\n",
    "\n",
    "$\\vec{\\mathbf{v}} = v_\\color{red}{x} \\hat{\\mathbf{\\color{red}{i}}} + v_\\color{green}{y} \\hat{\\mathbf{\\color{green}{j}}}  + v_\\color{blue}{z} \\hat{\\mathbf{\\color{blue}{k}}}$\n",
    "\n",
    "...we can see that they form two sides to a triangle, with the third side being the vector $\\vec{\\mathbf{u}} - \\vec{\\mathbf{v}}$ opposite an angle $\\alpha$:\n",
    "\n",
    "(note that the third side is $\\vec{\\mathbf{u}} - \\vec{\\mathbf{v}}$ because $\\vec{\\mathbf{v}} + (\\vec{\\mathbf{u}} - \\vec{\\mathbf{v}}) = \\vec{\\mathbf{u}}$)"
   ]
  },
  {
   "cell_type": "code",
   "execution_count": 5,
   "id": "aea262af",
   "metadata": {
    "ExecuteTime": {
     "end_time": "2023-06-15T22:52:41.990988Z",
     "start_time": "2023-06-15T22:50:56.702931Z"
    },
    "code_folding": [],
    "hide_input": true
   },
   "outputs": [
    {
     "name": "stderr",
     "output_type": "stream",
     "text": [
      "                                                                                      \r"
     ]
    },
    {
     "data": {
      "text/html": [
       "<video src=\"media/jupyter/threed_dot_product@2023-06-15@22-52-41.mp4\" controls autoplay loop style=\"max-width: 1000px;\"  >\n",
       "      Your browser does not support the <code>video</code> element.\n",
       "    </video>"
      ],
      "text/plain": [
       "<IPython.core.display.Video object>"
      ]
     },
     "metadata": {},
     "output_type": "display_data"
    }
   ],
   "source": [
    "%%manim -r 1000,600 -qm threed_dot_product\n",
    "\n",
    "from manim.utils.color import Colors\n",
    "\n",
    "class threed_dot_product(ThreeDScene):\n",
    "    def construct(self):\n",
    "        axes = ThreeDAxes()\n",
    "        \n",
    "        axis_labels = axes.get_axis_labels()\n",
    "        self.add(axis_labels)\n",
    "        \n",
    "        \n",
    "        \n",
    "#         sphere = Surface(\n",
    "#             lambda u, v: np.array([\n",
    "#                 1.5 * np.cos(u) * np.cos(v),\n",
    "#                 1.5 * np.cos(u) * np.sin(v),\n",
    "#                 1.5 * np.sin(u)\n",
    "#             ]), v_range=[0, TAU], u_range=[-PI / 2, PI / 2],\n",
    "#             checkerboard_colors=[RED_D, RED_E], resolution=(15, 32)\n",
    "#         )\n",
    "\n",
    "        o_pos = np.array([0, 0, 0])\n",
    "        v_pos = np.array([0, 4, 2])\n",
    "        u_pos = np.array([-2, 2, 2])\n",
    "        \n",
    "        v_unit = (1.0/np.linalg.norm(v_pos)) * v_pos\n",
    "        u_unit = (1.0/np.linalg.norm(u_pos)) * u_pos\n",
    "\n",
    "        \n",
    "        u_minus_v = add(u_pos, -1 * v_pos)\n",
    "        \n",
    "        uv_center = 0.5 * add(v_pos, u_pos)\n",
    "        triangle_center = 0.5 * uv_center\n",
    "        \n",
    "        normal_vec = np.cross(v_pos, u_pos)\n",
    "#         print(f\"{normal_vec=}\")\n",
    "        camera_up = np.cross(normal_vec, v_pos)\n",
    "        \n",
    "        spherical = cartesian_to_spherical(normal_vec)\n",
    "#         print(f\"{spherical=}\")\n",
    "        new_distance = spherical[0]\n",
    "        new_phi = spherical[1]\n",
    "        new_theta = spherical[2]\n",
    "\n",
    "#         print(f\"{new_phi=}\")\n",
    "        \n",
    "        v = Arrow3D(\n",
    "            start=o_pos,\n",
    "            end=v_pos,\n",
    "            resolution=8,\n",
    "            color=RED\n",
    "        )\n",
    "\n",
    "        label_v = MathTex(r\"\\vec{\\mathbf{v}}\", color=RED)\n",
    "        label_v.next_to(0.5 * v_pos, \n",
    "                        direction=u_minus_v, \n",
    "                        buff=-0.16)\n",
    "        \n",
    "        u = Arrow3D(\n",
    "            start=o_pos,\n",
    "            end=u_pos,\n",
    "            resolution=8,\n",
    "            color=GREEN\n",
    "        )\n",
    "        \n",
    "        label_u = MathTex(r\"\\vec{\\mathbf{u}}\", color=GREEN)\n",
    "        label_u.next_to(0.5 * u_pos, \n",
    "                        direction=u_minus_v, \n",
    "                        buff=0.01)\n",
    "        \n",
    "        triangle = Polygon(o_pos, u_pos, v_pos,\n",
    "                          fill_color=YELLOW, fill_opacity=0.3, stroke_color=BLUE, stroke_opacity=1.0, stroke_width=4)\n",
    "        \n",
    "        \n",
    "        u_minus_v = Arrow3D(\n",
    "            start=v_pos,\n",
    "            end=u_pos,\n",
    "            resolution=8,\n",
    "            color=Colors.blue_d.value\n",
    "        )\n",
    "        \n",
    "        label_u_minus_v = MathTex(r\"\\vec{\\mathbf{u}} - \\vec{\\mathbf{v}}\", color=Colors.blue_d.value)\n",
    "        label_u_minus_v.next_to(uv_center, \n",
    "                        direction=uv_center, \n",
    "                        buff=-0.0)\n",
    "        \n",
    "        arc= ArcBetweenPoints(start=v_unit, end=u_unit, stroke_color=YELLOW)\n",
    "        label_alpha = Tex(r\"$\\alpha$\",color=GREEN)\n",
    "        label_alpha.next_to(0.3*uv_center, \n",
    "                        direction=uv_center, \n",
    "                        buff=-0.0)\n",
    "        \n",
    "#         self.renderer.camera.light_source.move_to(3*IN) # changes the source of the light\n",
    "        self.set_camera_orientation(phi=75 * DEGREES, theta=30 * DEGREES, zoom=2.0)\n",
    "        self.add(axes)\n",
    "        self.add(u)\n",
    "        self.add_fixed_orientation_mobjects(label_v)\n",
    "        self.add_fixed_orientation_mobjects(label_u)\n",
    "        self.add(v)\n",
    "        self.add(triangle)\n",
    "        self.begin_ambient_camera_rotation(rate=1.0, about='theta')\n",
    "        \n",
    "        self.wait(2*PI)\n",
    "        \n",
    "        self.stop_ambient_camera_rotation()\n",
    "        \n",
    "        self.wait(1.0)\n",
    "\n",
    "#         self.move_camera(phi=new_phi, theta=new_theta, \n",
    "#                          gamma=None, \n",
    "#                          zoom=None, \n",
    "#                          focal_distance=5., \n",
    "#                          frame_center=triangle_center)\n",
    "        \n",
    "#         self.wait(1.0)\n",
    "        phi, theta, focal_distance, gamma, distance_to_origin = self.camera.get_value_trackers()\n",
    "\n",
    "#         self.play(phi.animate.set_value(new_theta))\n",
    "        #self.wait(1.0)\n",
    "#         phi, theta, focal_distance, gamma, distance_to_origin = self.camera.get_value_trackers()\n",
    "        \n",
    "        #print(f\"{phi.get_value()=}, {theta.get_value()=}, {focal_distance.get_value()=}, {gamma.get_value()=}\")\n",
    "        #self.play(gamma.animate.set_value(7.91/180.*PI))\n",
    "        self.play(phi.animate.set_value(new_theta), gamma.animate.set_value(7.91/180.*PI))\n",
    "\n",
    "        \n",
    "        #self.play(theta.animate.set_value(.01))\n",
    "\n",
    "#         self.set_camera_orientation(phi=new_theta, theta=new_phi)\n",
    "\n",
    "        \n",
    "        self.wait(2.0)\n",
    "\n",
    "        self.play(Create(u_minus_v))\n",
    "        self.add_fixed_orientation_mobjects(label_u_minus_v)\n",
    "        \n",
    "        self.wait(2.0)\n",
    "\n",
    "        self.play(Create(arc))\n",
    "        self.add_fixed_orientation_mobjects(label_alpha)\n",
    "        \n",
    "        self.wait(5.0)\n",
    "\n"
   ]
  },
  {
   "cell_type": "markdown",
   "id": "1aba41c3",
   "metadata": {},
   "source": [
    "This looks just like the *figure* in **Section 3** for the **Law of Cosines**, with $\\vec{\\mathbf{u}}$ corresponding to side **b**, and $\\vec{\\mathbf{v}}$ corresponding to side **c**, and $\\vec{\\mathbf{u}} - \\vec{\\mathbf{v}}$ corresponding to side **a**.\n",
    "\n",
    "The twisty path starts by using the result from **Section 2** to express the square of the length of the vector $\\vec{\\mathbf{u}} - \\vec{\\mathbf{v}}$ in terms of the dot product of $\\vec{\\mathbf{u}} - \\vec{\\mathbf{v}}$ with itself, also using the definition of dot product: $\\vec{\\mathbf{u}} \\bullet \\vec{\\mathbf{v}} := u_\\color{red}{x} v_\\color{red}{x} + u_\\color{green}{y} v_\\color{green}{y} + u_\\color{blue}{z} v_\\color{blue}{z}$\n",
    "\n",
    "$\\lVert \\vec{\\mathbf{u}} - \\vec{\\mathbf{v}}\\rVert^2 = (\\vec{\\mathbf{u}} - \\vec{\\mathbf{v}}) \\bullet (\\vec{\\mathbf{u}} - \\vec{\\mathbf{v}}) = (u_\\color{red}{x} - v_\\color{red}{x})(u_\\color{red}{x} - v_\\color{red}{x})\\text{ }\\text{ }+\\text{ }\\text{ }(u_\\color{green}{y} - v_\\color{green}{y})(u_\\color{green}{y} - v_\\color{green}{y})\\text{ }\\text{ }+\\text{ }\\text{ }(u_\\color{blue}{z} - v_\\color{blue}{z})(u_\\color{blue}{z} - v_\\color{blue}{z})$\n",
    "\n",
    "$ = (u_\\color{red}{x} - v_\\color{red}{x})^2\\text{ }\\text{ }+\\text{ }\\text{ }(u_\\color{green}{y} - v_\\color{green}{y})^2\\text{ }\\text{ }+\\text{ }\\text{ }(u_\\color{blue}{z} - v_\\color{blue}{z})^2$\n",
    "\n",
    "$ = (u_\\color{red}{x}^2 - 2u_\\color{red}{x}v_\\color{red}{x} + v_\\color{red}{x}^2)\\text{ }\\text{ }+\\text{ }\\text{ }(u_\\color{green}{y}^2 - 2u_\\color{green}{y}v_\\color{green}{y} + v_\\color{green}{y}^2)\\text{ }\\text{ }+\\text{ }\\text{ }(u_\\color{blue}{z}^2 - 2u_\\color{blue}{z}v_\\color{blue}{z} + v_\\color{blue}{z}^2)$\n",
    "\n",
    "$ = (u_\\color{red}{x}^2 + u_\\color{green}{y}^2 + u_\\color{blue}{z}^2)\\text{ }\\text{ }+\\text{ }\\text{ }(v_\\color{red}{x}^2 + v_\\color{green}{y}^2 + v_\\color{blue}{z}^2)\\text{ }\\text{ }-\\text{ }\\text{ }2u_\\color{red}{x}v_\\color{red}{x} - 2u_\\color{green}{y}v_\\color{green}{y} - 2u_\\color{blue}{z}v_\\color{blue}{z}$\n",
    "\n",
    "$ = (u_\\color{red}{x}^2 + u_\\color{green}{y}^2 + u_\\color{blue}{z}^2)\\text{ }\\text{ }+\\text{ }\\text{ }(v_\\color{red}{x}^2 + v_\\color{green}{y}^2 + v_\\color{blue}{z}^2)\\text{ }\\text{ }-\\text{ }\\text{ }2(u_\\color{red}{x}v_\\color{red}{x} + u_\\color{green}{y}v_\\color{green}{y} + u_\\color{blue}{z}v_\\color{blue}{z})$\n",
    "\n",
    "...substituting in the definition of the length of a vector $\\lVert \\vec{\\mathbf{u}}\\rVert := \\sqrt{u_\\color{red}{x}^2 + u_\\color{green}{y}^2 + u_\\color{blue}{z}^2}$ gives...\n",
    "\n",
    "$ = \\lVert \\vec{\\mathbf{u}}\\rVert^2 + \\lVert \\vec{\\mathbf{v}}\\rVert^2\\text{ }\\text{ }-\\text{ }\\text{ }2(u_\\color{red}{x}v_\\color{red}{x} + u_\\color{green}{y}v_\\color{green}{y} + u_\\color{blue}{z}v_\\color{blue}{z})$\n",
    "\n",
    "...substituting in the definition of the dot product gives...\n",
    "\n",
    "$\\lVert \\vec{\\mathbf{u}} - \\vec{\\mathbf{v}}\\rVert^2 = (\\vec{\\mathbf{u}} - \\vec{\\mathbf{v}}) \\bullet (\\vec{\\mathbf{u}} - \\vec{\\mathbf{v}}) = \\lVert \\vec{\\mathbf{u}}\\rVert^2 + \\lVert \\vec{\\mathbf{v}}\\rVert^2 - 2\\vec{\\mathbf{u}} \\bullet \\vec{\\mathbf{v}}$\n",
    "\n",
    "...giving us the final result:\n",
    "\n",
    "$$\\bbox[15px, border: 1px solid]{\\lVert \\vec{\\mathbf{u}} - \\vec{\\mathbf{v}}\\rVert^2 = \\lVert \\vec{\\mathbf{u}}\\rVert^2 + \\lVert \\vec{\\mathbf{v}}\\rVert^2 - 2\\vec{\\mathbf{u}} \\bullet \\vec{\\mathbf{v}}}$$"
   ]
  },
  {
   "cell_type": "markdown",
   "id": "447ebf46",
   "metadata": {},
   "source": [
    "## Apply Law of Cosines to the u v triangle"
   ]
  },
  {
   "cell_type": "markdown",
   "id": "7000cec8",
   "metadata": {},
   "source": [
    "This is now an equation that is made up only of scalars.  Also, it looks very similar to the *final equation* in **Section 3** for the **Law of Cosines**.\n",
    "\n",
    "Looking at the **Law of Cosines** for the triangle made with these two vectors\n",
    "\n",
    "$\\mathrm{a}^2 = \\mathrm{b}^2 + \\mathrm{c}^2 - 2 \\mathrm{b c} cos(\\alpha)$\n",
    "\n",
    "...and applying the following mappings:\n",
    "\n",
    "$a \\mapsto \\lVert \\vec{\\mathbf{u}} - \\vec{\\mathbf{v}}\\rVert$\n",
    "\n",
    "$b \\mapsto \\lVert \\vec{\\mathbf{u}}\\rVert$\n",
    "\n",
    "$c \\mapsto \\lVert \\vec{\\mathbf{v}}\\rVert$\n",
    "\n",
    "We get the following:\n",
    "\n",
    "$$\\bbox[15px, border: 1px solid]{\\lVert \\vec{\\mathbf{u}} - \\vec{\\mathbf{v}}\\rVert^2 = \\lVert \\vec{\\mathbf{u}}\\rVert^2 + \\lVert \\vec{\\mathbf{v}}\\rVert^2 - 2 \\lVert \\vec{\\mathbf{u}}\\rVert \\lVert \\vec{\\mathbf{v}}\\rVert cos(\\alpha)}$$"
   ]
  },
  {
   "cell_type": "markdown",
   "id": "b34bd256",
   "metadata": {},
   "source": [
    "## <font style=\"color: red\">Combine for final result</font>"
   ]
  },
  {
   "cell_type": "markdown",
   "id": "6a1c8d27",
   "metadata": {},
   "source": [
    "Connecting the left hand sides of the last two equations gives:\n",
    "$\\require{cancel}$\n",
    "\n",
    "$\\lVert \\vec{\\mathbf{u}}\\rVert^2 + \\lVert \\vec{\\mathbf{v}}\\rVert^2 - 2\\vec{\\mathbf{u}} \\bullet \\vec{\\mathbf{v}} = \\lVert \\vec{\\mathbf{u}}\\rVert^2 + \\lVert \\vec{\\mathbf{v}}\\rVert^2 - 2 \\lVert \\vec{\\mathbf{u}}\\rVert \\lVert \\vec{\\mathbf{v}}\\rVert  cos(\\alpha)$\n",
    "\n",
    "$\\cancel{\\lVert \\vec{\\mathbf{u}}\\rVert^2} + \\lVert \\cancel{\\vec{\\mathbf{v}}\\rVert^2} \\cancel{- 2}\\vec{\\mathbf{u}} \\bullet \\vec{\\mathbf{v}} = \\cancel{\\lVert \\vec{\\mathbf{u}}\\rVert^2} + \\cancel{\\lVert \\vec{\\mathbf{v}}\\rVert^2} \\cancel{- 2} \\lVert \\vec{\\mathbf{u}}\\rVert \\lVert \\vec{\\mathbf{v}}\\rVert  cos(\\alpha)$\n",
    "\n",
    "Giving us the grand finale:\n",
    "\n",
    "$$\\bbox[15px, border: 1px solid]{\\vec{\\mathbf{u}} \\bullet \\vec{\\mathbf{v}} = \\lVert \\vec{\\mathbf{u}}\\rVert \\lVert \\vec{\\mathbf{v}}\\rVert  cos(\\alpha)}$$"
   ]
  },
  {
   "cell_type": "markdown",
   "id": "a66a5695",
   "metadata": {},
   "source": [
    "# What does this mean?"
   ]
  },
  {
   "cell_type": "markdown",
   "id": "2de2c448",
   "metadata": {},
   "source": [
    "As the **3Blue1Brown** video above points out at [this location](https://youtu.be/LyGKycYT2v0?list=PLZHQObOWTQDPD3MizzM2xVFitgF8hE_ab&t=130), the result $\\lVert \\vec{\\mathbf{u}}\\rVert \\lVert \\vec{\\mathbf{v}}\\rVert  cos(\\alpha)$ is symmetrical.  It means either:\n",
    "- The length of $\\vec{\\mathbf{u}}$ times the length of the **projection** of $\\vec{\\mathbf{v}}$ onto $\\vec{\\mathbf{u}}$ OR\n",
    "- The length of $\\vec{\\mathbf{v}}$ times the length of the **projection** of $\\vec{\\mathbf{u}}$ onto $\\vec{\\mathbf{v}}$ OR"
   ]
  },
  {
   "cell_type": "markdown",
   "id": "377feb88",
   "metadata": {},
   "source": [
    "## When ONE of the vectors is a UNIT vector\n",
    "Maybe the two options above are murky and confusing, but what is really clear is the situation when ONE of these two vectors is a **unit vector**.  \n",
    "\n",
    "If $\\vec{\\mathbf{u}}$ is a **unit vector**, then $\\vec{\\mathbf{u}} \\bullet \\vec{\\mathbf{v}}$ becomes $1 \\cdot \\lVert \\vec{\\mathbf{v}}\\rVert  cos(\\alpha)$, which is just the **length of the projection of** $\\vec{\\mathbf{v}}$ onto the direction $\\hat{\\mathbf{u}}$.\n",
    "\n",
    "If you have 3 arbitrary orthonormal unit vectors, $\\hat{\\mathbf{a}}$, $\\hat{\\mathbf{b}}$, $\\hat{\\mathbf{c}}$, and you want to find the length of the components of $\\vec{\\mathbf{v}}$ relative to these vectors, you can do it using the dot product:\n",
    "\n",
    "$v_a = \\vec{\\mathbf{v}} \\bullet \\hat{\\mathbf{a}}$\n",
    "\n",
    "$v_b = \\vec{\\mathbf{v}} \\bullet \\hat{\\mathbf{b}}$\n",
    "\n",
    "$v_c = \\vec{\\mathbf{v}} \\bullet \\hat{\\mathbf{c}}$\n",
    "\n",
    "So that's how you find the components of $\\vec{\\mathbf{v}}$ relative to some random rotated set of axes.\n",
    "\n",
    "Circling back around to the definition of $\\vec{\\mathbf{v}}$ we can see that...\n",
    "\n",
    "$v_\\color{red}{x} = \\vec{\\mathbf{v}} \\bullet \\hat{\\mathbf{\\color{red}{i}}} = \\lVert \\vec{\\mathbf{v}}\\rVert  cos(\\alpha)$\n",
    "\n",
    "$v_\\color{green}{y} = \\vec{\\mathbf{v}} \\bullet \\hat{\\mathbf{\\color{green}{j}}} = \\lVert \\vec{\\mathbf{v}}\\rVert  cos(\\beta)$\n",
    "\n",
    "$v_\\color{blue}{z} = \\vec{\\mathbf{v}} \\bullet \\hat{\\mathbf{\\color{blue}{k}}} = \\lVert \\vec{\\mathbf{v}}\\rVert  cos(\\gamma)$"
   ]
  },
  {
   "cell_type": "markdown",
   "id": "1e67c4ee",
   "metadata": {},
   "source": [
    "## When BOTH of the vectors are UNIT vectors\n",
    "\n",
    "If both $\\vec{\\mathbf{u}}$ and $\\vec{\\mathbf{v}}$ are **unit vectors**, then $\\vec{\\mathbf{u}} \\bullet \\vec{\\mathbf{v}}$ becomes $cos(\\alpha)$, which is just the **cosine of the angle between the vectors.**  \n",
    "\n",
    "When specifying a **direction** in space (i.e. a unit vector $\\hat{\\mathbf{v}}$), relative to 3 axes $\\hat{\\mathbf{a}}$, $\\hat{\\mathbf{b}}$, $\\hat{\\mathbf{c}}$, it's common to give just the [direction cosines](https://en.wikipedia.org/wiki/Direction_cosine) of the three angles $\\alpha, \\beta, \\gamma$ between the **direction** $\\hat{\\mathbf{v}}$ and the three axes."
   ]
  },
  {
   "cell_type": "code",
   "execution_count": null,
   "id": "97911127",
   "metadata": {},
   "outputs": [],
   "source": []
  }
 ],
 "metadata": {
  "hide_input": false,
  "kernelspec": {
   "display_name": "Python 3 (ipykernel)",
   "language": "python",
   "name": "python3"
  },
  "language_info": {
   "codemirror_mode": {
    "name": "ipython",
    "version": 3
   },
   "file_extension": ".py",
   "mimetype": "text/x-python",
   "name": "python",
   "nbconvert_exporter": "python",
   "pygments_lexer": "ipython3",
   "version": "3.10.8"
  },
  "toc": {
   "base_numbering": 1,
   "nav_menu": {},
   "number_sections": true,
   "sideBar": true,
   "skip_h1_title": false,
   "title_cell": "Table of Contents",
   "title_sidebar": "Contents",
   "toc_cell": false,
   "toc_position": {
    "height": "calc(100% - 180px)",
    "left": "10px",
    "top": "150px",
    "width": "361.6px"
   },
   "toc_section_display": true,
   "toc_window_display": true
  },
  "varInspector": {
   "cols": {
    "lenName": 16,
    "lenType": 16,
    "lenVar": 40
   },
   "kernels_config": {
    "python": {
     "delete_cmd_postfix": "",
     "delete_cmd_prefix": "del ",
     "library": "var_list.py",
     "varRefreshCmd": "print(var_dic_list())"
    },
    "r": {
     "delete_cmd_postfix": ") ",
     "delete_cmd_prefix": "rm(",
     "library": "var_list.r",
     "varRefreshCmd": "cat(var_dic_list()) "
    }
   },
   "types_to_exclude": [
    "module",
    "function",
    "builtin_function_or_method",
    "instance",
    "_Feature"
   ],
   "window_display": false
  }
 },
 "nbformat": 4,
 "nbformat_minor": 5
}
